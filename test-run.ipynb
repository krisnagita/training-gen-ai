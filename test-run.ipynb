{
 "cells": [
  {
   "cell_type": "code",
   "execution_count": 5,
   "metadata": {},
   "outputs": [],
   "source": [
    "from solution.utilities.memory import chat_to_memory\n",
    "from solution.utilities.model import model_embedding, ChatGPT\n",
    "from solution.utilities.preprocess import get_pdf_text, store_in_vector_database\n",
    "from langchain.vectorstores import FAISS\n",
    "\n",
    "from langgraph.checkpoint.memory import MemorySaver\n",
    "from langgraph.graph import MessagesState, START, StateGraph\n",
    "\n",
    "from langchain_core.messages import (AIMessage, BaseMessage, HumanMessage, \n",
    "                                     SystemMessage, trim_messages)\n",
    "\n",
    "from langchain.prompts import (ChatPromptTemplate, HumanMessagePromptTemplate, \n",
    "                               MessagesPlaceholder, PromptTemplate)\n",
    "\n",
    "from langchain.chains import (StuffDocumentsChain, create_history_aware_retriever, \n",
    "                              create_retrieval_chain)\n",
    "\n",
    "from langchain.chains.combine_documents import create_stuff_documents_chain\n",
    "from unstructured.partition.pdf import partition_pdf"
   ]
  },
  {
   "cell_type": "code",
   "execution_count": null,
   "metadata": {},
   "outputs": [],
   "source": [
    "pdf_path = \"./pdf/Football_Laws_of_the_Game_2425.pdf\""
   ]
  },
  {
   "cell_type": "code",
   "execution_count": 7,
   "metadata": {},
   "outputs": [],
   "source": [
    "extracted_element =  partition_pdf(\n",
    "    filename=pdf_path,\n",
    "    extract_images_in_pdf=True,\n",
    "    infer_table_structure=False,\n",
    "    chunking_strategy=\"by_title\",\n",
    "    max_characters=4000,\n",
    "    new_after_n_chars=3800,\n",
    "    combine_text_under_n_chars=2000,\n",
    "    strategy=\"fast\",\n",
    "    include_page_break = True\n",
    ")"
   ]
  },
  {
   "cell_type": "code",
   "execution_count": 14,
   "metadata": {},
   "outputs": [
    {
     "data": {
      "text/plain": [
       "79"
      ]
     },
     "execution_count": 14,
     "metadata": {},
     "output_type": "execute_result"
    }
   ],
   "source": [
    "len(extracted_element)"
   ]
  },
  {
   "cell_type": "code",
   "execution_count": 15,
   "metadata": {},
   "outputs": [
    {
     "name": "stdout",
     "output_type": "stream",
     "text": [
      "or\n",
      "\n",
      "a pattern/colours which exactly replicate(s) the shirt sleeve\n",
      "\n",
      "Undershorts/tights must be the same colour as the main colour of the shorts or the lowest part of the shorts – players of the same team must wear the same colour.\n",
      "\n",
      "4. Other equipment\n",
      "\n",
      "Non-dangerous protective equipment, for example gloves, headgear, facemasks and knee and arm protectors made of soft, lightweight padded material is permitted, as are goalkeepers’ caps and sports spectacles. Goalkeepers may Head covers wear tracksuit bottoms.\n",
      "\n",
      "Where head covers (excluding goalkeepers’ caps) are worn, they must:\n",
      "\n",
      "60\n",
      "\n",
      "be black or the same main colour as the shirt (provided that the players of\n",
      "\n",
      "the same team wear the same colour)\n",
      "\n",
      "be in keeping with the professional appearance of the player’s equipment • not be attached to the shirt •  not be dangerous to the player wearing it or any other player (e.g. opening/ closing mechanism around neck)\n",
      "\n",
      "Electronic communication • not have any part(s) extending out from the surface (protruding elements)\n",
      "\n",
      "Players (including substitutes/substituted and sent-off players) are not permitted to wear or use any form of electronic or communication equipment (except where EPTS is allowed). The use of any form of electronic communication by team officials is permitted where it directly relates to player welfare or safety or for tactical/coaching reasons but only small, mobile, handheld equipment (e.g. microphone, headphone, earpiece, mobile phone/ smartphone, smartwatch, tablet, laptop) may be used. A team official who uses unauthorised equipment or who behaves in an inappropriate manner as a Electronic performance and tracking systems (EPTS) result of the use of electronic or communication equipment will be sent off.\n",
      "\n",
      "Where wearable technology (WT) as part of electronic performance and tracking systems (EPTS) is used in matches played in an official competition organised under the auspices of FIFA, confederations or national football associations, the competition organiser must ensure that the technology attached to the players’ equipment is not dangerous and meets the requirements for wearable EPTS under the FIFA Quality Programme for EPTS.\n",
      "\n",
      "Where EPTS are provided by the match or competition organiser, it is the responsibility of that match or competition organiser to ensure that the information and data transmitted from EPTS to the technical area during matches played in an official competition are reliable and accurate.\n",
      "\n",
      "The FIFA Quality Programme for EPTS supports competition organisers with the approval process of reliable and accurate electronic performance and tracking systems.\n",
      "\n",
      "L aw s o f th e Ga me 20 2 4 /25 | L aw 4 | The Pl ayers’ Equipme nt\n",
      "\n",
      "61\n",
      "\n",
      "5. Slogans, statements, images and advertising\n",
      "\n",
      "Equipment must not have any political, religious or personal slogans, statements or images. Players must not reveal undergarments that show political, religious, personal slogans, statements or images, or advertising other than the manufacturer’s logo. For any offence the player and/or the team will be sanctioned by the competition organiser, national football association Principles or by FIFA.\n",
      "\n",
      "Law 4 applies to all equipment (including clothing) worn by players,\n",
      "\n",
      "substitutes and substituted players; its principles also apply to all team officials in the technical area •\n",
      "\n",
      "The following are (usually) permitted:\n",
      "\n",
      "the player’s number, name, team crest/logo, initiative slogans/emblems promoting the game of football, respect and integrity as well as any advertising permitted by competition rules or national FA, confederation or FIFA regulations the facts of a match: teams, date, competition/event, venue\n",
      "\n",
      "Permitted slogans, statements or images should be confined to the shirt front\n"
     ]
    }
   ],
   "source": [
    "print(extracted_element[20].text)"
   ]
  }
 ],
 "metadata": {
  "kernelspec": {
   "display_name": "venv",
   "language": "python",
   "name": "python3"
  },
  "language_info": {
   "codemirror_mode": {
    "name": "ipython",
    "version": 3
   },
   "file_extension": ".py",
   "mimetype": "text/x-python",
   "name": "python",
   "nbconvert_exporter": "python",
   "pygments_lexer": "ipython3",
   "version": "3.10.15"
  }
 },
 "nbformat": 4,
 "nbformat_minor": 2
}
